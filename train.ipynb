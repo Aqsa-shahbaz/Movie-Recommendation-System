{
 "cells": [
  {
   "cell_type": "code",
   "execution_count": 11,
   "id": "bd1b42aa",
   "metadata": {},
   "outputs": [],
   "source": [
    "import pickle\n",
    "import numpy as np\n",
    "from recommender import load_and_preprocess_data, build_model, recommend_movies\n",
    "from sklearn.metrics import mean_squared_error, mean_absolute_error, r2_score"
   ]
  },
  {
   "cell_type": "code",
   "execution_count": 12,
   "id": "de5b1aae",
   "metadata": {},
   "outputs": [],
   "source": [
    "movies, ratings, x_train, x_val, y_train, y_val, userencoded, user_rev, moviecoded, movie_rev, genres = load_and_preprocess_data()"
   ]
  },
  {
   "cell_type": "code",
   "execution_count": 13,
   "id": "c50a244a",
   "metadata": {},
   "outputs": [
    {
     "name": "stdout",
     "output_type": "stream",
     "text": [
      "Epoch 1/30\n",
      "\u001b[1m1418/1418\u001b[0m \u001b[32m━━━━━━━━━━━━━━━━━━━━\u001b[0m\u001b[37m\u001b[0m \u001b[1m18s\u001b[0m 12ms/step - loss: 0.0857 - mean_absolute_error: 0.2279 - val_loss: 0.0485 - val_mean_absolute_error: 0.1709\n",
      "Epoch 2/30\n",
      "\u001b[1m1418/1418\u001b[0m \u001b[32m━━━━━━━━━━━━━━━━━━━━\u001b[0m\u001b[37m\u001b[0m \u001b[1m17s\u001b[0m 12ms/step - loss: 0.0384 - mean_absolute_error: 0.1486 - val_loss: 0.0424 - val_mean_absolute_error: 0.1574\n",
      "Epoch 3/30\n",
      "\u001b[1m1418/1418\u001b[0m \u001b[32m━━━━━━━━━━━━━━━━━━━━\u001b[0m\u001b[37m\u001b[0m \u001b[1m17s\u001b[0m 12ms/step - loss: 0.0161 - mean_absolute_error: 0.0920 - val_loss: 0.0445 - val_mean_absolute_error: 0.1595\n",
      "Epoch 4/30\n",
      "\u001b[1m1418/1418\u001b[0m \u001b[32m━━━━━━━━━━━━━━━━━━━━\u001b[0m\u001b[37m\u001b[0m \u001b[1m17s\u001b[0m 12ms/step - loss: 0.0112 - mean_absolute_error: 0.0723 - val_loss: 0.0461 - val_mean_absolute_error: 0.1619\n",
      "Epoch 5/30\n",
      "\u001b[1m1418/1418\u001b[0m \u001b[32m━━━━━━━━━━━━━━━━━━━━\u001b[0m\u001b[37m\u001b[0m \u001b[1m19s\u001b[0m 13ms/step - loss: 0.0105 - mean_absolute_error: 0.0674 - val_loss: 0.0469 - val_mean_absolute_error: 0.1620\n",
      "Epoch 6/30\n",
      "\u001b[1m1418/1418\u001b[0m \u001b[32m━━━━━━━━━━━━━━━━━━━━\u001b[0m\u001b[37m\u001b[0m \u001b[1m20s\u001b[0m 14ms/step - loss: 0.0100 - mean_absolute_error: 0.0647 - val_loss: 0.0470 - val_mean_absolute_error: 0.1626\n",
      "Epoch 7/30\n",
      "\u001b[1m1418/1418\u001b[0m \u001b[32m━━━━━━━━━━━━━━━━━━━━\u001b[0m\u001b[37m\u001b[0m \u001b[1m21s\u001b[0m 15ms/step - loss: 0.0095 - mean_absolute_error: 0.0613 - val_loss: 0.0468 - val_mean_absolute_error: 0.1621\n",
      "Epoch 8/30\n",
      "\u001b[1m1418/1418\u001b[0m \u001b[32m━━━━━━━━━━━━━━━━━━━━\u001b[0m\u001b[37m\u001b[0m \u001b[1m17s\u001b[0m 12ms/step - loss: 0.0092 - mean_absolute_error: 0.0593 - val_loss: 0.0476 - val_mean_absolute_error: 0.1636\n",
      "Epoch 9/30\n",
      "\u001b[1m1418/1418\u001b[0m \u001b[32m━━━━━━━━━━━━━━━━━━━━\u001b[0m\u001b[37m\u001b[0m \u001b[1m19s\u001b[0m 13ms/step - loss: 0.0091 - mean_absolute_error: 0.0587 - val_loss: 0.0465 - val_mean_absolute_error: 0.1611\n",
      "Epoch 10/30\n",
      "\u001b[1m1418/1418\u001b[0m \u001b[32m━━━━━━━━━━━━━━━━━━━━\u001b[0m\u001b[37m\u001b[0m \u001b[1m18s\u001b[0m 12ms/step - loss: 0.0090 - mean_absolute_error: 0.0577 - val_loss: 0.0469 - val_mean_absolute_error: 0.1614\n",
      "Epoch 11/30\n",
      "\u001b[1m1418/1418\u001b[0m \u001b[32m━━━━━━━━━━━━━━━━━━━━\u001b[0m\u001b[37m\u001b[0m \u001b[1m18s\u001b[0m 13ms/step - loss: 0.0090 - mean_absolute_error: 0.0567 - val_loss: 0.0469 - val_mean_absolute_error: 0.1611\n",
      "Epoch 12/30\n",
      "\u001b[1m1418/1418\u001b[0m \u001b[32m━━━━━━━━━━━━━━━━━━━━\u001b[0m\u001b[37m\u001b[0m \u001b[1m17s\u001b[0m 12ms/step - loss: 0.0089 - mean_absolute_error: 0.0562 - val_loss: 0.0470 - val_mean_absolute_error: 0.1602\n",
      "Epoch 13/30\n",
      "\u001b[1m1418/1418\u001b[0m \u001b[32m━━━━━━━━━━━━━━━━━━━━\u001b[0m\u001b[37m\u001b[0m \u001b[1m16s\u001b[0m 11ms/step - loss: 0.0088 - mean_absolute_error: 0.0557 - val_loss: 0.0464 - val_mean_absolute_error: 0.1609\n",
      "Epoch 14/30\n",
      "\u001b[1m1418/1418\u001b[0m \u001b[32m━━━━━━━━━━━━━━━━━━━━\u001b[0m\u001b[37m\u001b[0m \u001b[1m21s\u001b[0m 15ms/step - loss: 0.0087 - mean_absolute_error: 0.0552 - val_loss: 0.0464 - val_mean_absolute_error: 0.1602\n",
      "Epoch 15/30\n",
      "\u001b[1m1418/1418\u001b[0m \u001b[32m━━━━━━━━━━━━━━━━━━━━\u001b[0m\u001b[37m\u001b[0m \u001b[1m20s\u001b[0m 14ms/step - loss: 0.0087 - mean_absolute_error: 0.0553 - val_loss: 0.0467 - val_mean_absolute_error: 0.1609\n",
      "Epoch 16/30\n",
      "\u001b[1m1418/1418\u001b[0m \u001b[32m━━━━━━━━━━━━━━━━━━━━\u001b[0m\u001b[37m\u001b[0m \u001b[1m17s\u001b[0m 12ms/step - loss: 0.0086 - mean_absolute_error: 0.0543 - val_loss: 0.0468 - val_mean_absolute_error: 0.1605\n",
      "Epoch 17/30\n",
      "\u001b[1m1418/1418\u001b[0m \u001b[32m━━━━━━━━━━━━━━━━━━━━\u001b[0m\u001b[37m\u001b[0m \u001b[1m17s\u001b[0m 12ms/step - loss: 0.0086 - mean_absolute_error: 0.0546 - val_loss: 0.0466 - val_mean_absolute_error: 0.1601\n",
      "Epoch 18/30\n",
      "\u001b[1m1418/1418\u001b[0m \u001b[32m━━━━━━━━━━━━━━━━━━━━\u001b[0m\u001b[37m\u001b[0m \u001b[1m17s\u001b[0m 12ms/step - loss: 0.0086 - mean_absolute_error: 0.0544 - val_loss: 0.0467 - val_mean_absolute_error: 0.1614\n",
      "Epoch 19/30\n",
      "\u001b[1m1418/1418\u001b[0m \u001b[32m━━━━━━━━━━━━━━━━━━━━\u001b[0m\u001b[37m\u001b[0m \u001b[1m17s\u001b[0m 12ms/step - loss: 0.0086 - mean_absolute_error: 0.0543 - val_loss: 0.0467 - val_mean_absolute_error: 0.1593\n",
      "Epoch 20/30\n",
      "\u001b[1m1418/1418\u001b[0m \u001b[32m━━━━━━━━━━━━━━━━━━━━\u001b[0m\u001b[37m\u001b[0m \u001b[1m19s\u001b[0m 13ms/step - loss: 0.0086 - mean_absolute_error: 0.0543 - val_loss: 0.0466 - val_mean_absolute_error: 0.1616\n",
      "Epoch 21/30\n",
      "\u001b[1m1418/1418\u001b[0m \u001b[32m━━━━━━━━━━━━━━━━━━━━\u001b[0m\u001b[37m\u001b[0m \u001b[1m18s\u001b[0m 13ms/step - loss: 0.0086 - mean_absolute_error: 0.0543 - val_loss: 0.0465 - val_mean_absolute_error: 0.1596\n",
      "Epoch 22/30\n",
      "\u001b[1m1418/1418\u001b[0m \u001b[32m━━━━━━━━━━━━━━━━━━━━\u001b[0m\u001b[37m\u001b[0m \u001b[1m17s\u001b[0m 12ms/step - loss: 0.0085 - mean_absolute_error: 0.0539 - val_loss: 0.0462 - val_mean_absolute_error: 0.1594\n",
      "Epoch 23/30\n",
      "\u001b[1m1418/1418\u001b[0m \u001b[32m━━━━━━━━━━━━━━━━━━━━\u001b[0m\u001b[37m\u001b[0m \u001b[1m18s\u001b[0m 12ms/step - loss: 0.0085 - mean_absolute_error: 0.0537 - val_loss: 0.0467 - val_mean_absolute_error: 0.1603\n",
      "Epoch 24/30\n",
      "\u001b[1m1418/1418\u001b[0m \u001b[32m━━━━━━━━━━━━━━━━━━━━\u001b[0m\u001b[37m\u001b[0m \u001b[1m18s\u001b[0m 13ms/step - loss: 0.0084 - mean_absolute_error: 0.0537 - val_loss: 0.0461 - val_mean_absolute_error: 0.1600\n",
      "Epoch 25/30\n",
      "\u001b[1m1418/1418\u001b[0m \u001b[32m━━━━━━━━━━━━━━━━━━━━\u001b[0m\u001b[37m\u001b[0m \u001b[1m19s\u001b[0m 14ms/step - loss: 0.0085 - mean_absolute_error: 0.0538 - val_loss: 0.0469 - val_mean_absolute_error: 0.1607\n",
      "Epoch 26/30\n",
      "\u001b[1m1418/1418\u001b[0m \u001b[32m━━━━━━━━━━━━━━━━━━━━\u001b[0m\u001b[37m\u001b[0m \u001b[1m19s\u001b[0m 13ms/step - loss: 0.0084 - mean_absolute_error: 0.0533 - val_loss: 0.0468 - val_mean_absolute_error: 0.1603\n",
      "Epoch 27/30\n",
      "\u001b[1m1418/1418\u001b[0m \u001b[32m━━━━━━━━━━━━━━━━━━━━\u001b[0m\u001b[37m\u001b[0m \u001b[1m18s\u001b[0m 13ms/step - loss: 0.0084 - mean_absolute_error: 0.0534 - val_loss: 0.0465 - val_mean_absolute_error: 0.1595\n",
      "Epoch 28/30\n",
      "\u001b[1m1418/1418\u001b[0m \u001b[32m━━━━━━━━━━━━━━━━━━━━\u001b[0m\u001b[37m\u001b[0m \u001b[1m19s\u001b[0m 13ms/step - loss: 0.0084 - mean_absolute_error: 0.0536 - val_loss: 0.0464 - val_mean_absolute_error: 0.1596\n",
      "Epoch 29/30\n",
      "\u001b[1m1418/1418\u001b[0m \u001b[32m━━━━━━━━━━━━━━━━━━━━\u001b[0m\u001b[37m\u001b[0m \u001b[1m19s\u001b[0m 13ms/step - loss: 0.0084 - mean_absolute_error: 0.0534 - val_loss: 0.0461 - val_mean_absolute_error: 0.1600\n",
      "Epoch 30/30\n",
      "\u001b[1m1418/1418\u001b[0m \u001b[32m━━━━━━━━━━━━━━━━━━━━\u001b[0m\u001b[37m\u001b[0m \u001b[1m19s\u001b[0m 13ms/step - loss: 0.0083 - mean_absolute_error: 0.0532 - val_loss: 0.0463 - val_mean_absolute_error: 0.1598\n"
     ]
    },
    {
     "data": {
      "text/plain": [
       "<keras.src.callbacks.history.History at 0x1d01f96f450>"
      ]
     },
     "execution_count": 13,
     "metadata": {},
     "output_type": "execute_result"
    }
   ],
   "source": [
    "\n",
    "\n",
    "model = build_model(len(userencoded), len(moviecoded))\n",
    "model.fit([x_train[:, 0], x_train[:, 1]], y_train, validation_data=([x_val[:, 0], x_val[:, 1]], y_val), \n",
    "          batch_size=64, epochs=30, verbose=1)"
   ]
  },
  {
   "cell_type": "code",
   "execution_count": 14,
   "id": "58e0583d",
   "metadata": {},
   "outputs": [
    {
     "name": "stderr",
     "output_type": "stream",
     "text": [
      "WARNING:absl:You are saving your model as an HDF5 file via `model.save()` or `keras.saving.save_model(model)`. This file format is considered legacy. We recommend using instead the native Keras format, e.g. `model.save('my_model.keras')` or `keras.saving.save_model(model, 'my_model.keras')`. \n"
     ]
    }
   ],
   "source": [
    "# Save the model and encodings for later use\n",
    "model.save(\"movie_recommendation_model.h5\")\n",
    "pickle.dump(userencoded, open('userencoded.pkl', 'wb'))\n",
    "pickle.dump(moviecoded, open('moviecoded.pkl', 'wb'))"
   ]
  },
  {
   "cell_type": "code",
   "execution_count": 15,
   "id": "fba8a00a",
   "metadata": {},
   "outputs": [
    {
     "name": "stdout",
     "output_type": "stream",
     "text": [
      "\u001b[1m316/316\u001b[0m \u001b[32m━━━━━━━━━━━━━━━━━━━━\u001b[0m\u001b[37m\u001b[0m \u001b[1m1s\u001b[0m 3ms/step\n",
      "MSE: 0.0433\n",
      "MAE: 0.1598\n",
      "R² Score: 0.2059\n",
      "RMSE: 0.2080\n"
     ]
    }
   ],
   "source": [
    "# Predict and evaluate\n",
    "y_pred = model.predict([x_val[:, 0], x_val[:, 1]])\n",
    "print(f\"MSE: {mean_squared_error(y_val, y_pred):.4f}\")\n",
    "print(f\"MAE: {mean_absolute_error(y_val, y_pred):.4f}\")\n",
    "print(f\"R² Score: {r2_score(y_val, y_pred):.4f}\")\n",
    "\n",
    "rmse = np.sqrt(mean_squared_error(y_val, y_pred))\n",
    "print(f\"RMSE: {rmse:.4f}\")"
   ]
  }
 ],
 "metadata": {
  "kernelspec": {
   "display_name": "venv",
   "language": "python",
   "name": "python3"
  },
  "language_info": {
   "codemirror_mode": {
    "name": "ipython",
    "version": 3
   },
   "file_extension": ".py",
   "mimetype": "text/x-python",
   "name": "python",
   "nbconvert_exporter": "python",
   "pygments_lexer": "ipython3",
   "version": "3.11.4"
  }
 },
 "nbformat": 4,
 "nbformat_minor": 5
}
